{
  "nbformat": 4,
  "nbformat_minor": 0,
  "metadata": {
    "colab": {
      "name": "tensorflow101-1.ipynb",
      "provenance": [],
      "collapsed_sections": [],
      "authorship_tag": "ABX9TyNXy3j8Mdouan9FMaV1qjkB",
      "include_colab_link": true
    },
    "kernelspec": {
      "name": "python3",
      "display_name": "Python 3"
    }
  },
  "cells": [
    {
      "cell_type": "markdown",
      "metadata": {
        "id": "view-in-github",
        "colab_type": "text"
      },
      "source": [
        "<a href=\"https://colab.research.google.com/github/datasigntist/tensorflowCodes/blob/master/tensorflow101_1.ipynb\" target=\"_parent\"><img src=\"https://colab.research.google.com/assets/colab-badge.svg\" alt=\"Open In Colab\"/></a>"
      ]
    },
    {
      "cell_type": "code",
      "metadata": {
        "id": "TGCOgXs-eKt_",
        "colab_type": "code",
        "colab": {
          "base_uri": "https://localhost:8080/",
          "height": 301
        },
        "outputId": "d24f284a-b4e8-4214-cb70-5ede5ecf2715"
      },
      "source": [
        "import functools \n",
        "import numpy as np \n",
        "import tensorflow as tf \n",
        "import pandas as pd\n",
        "\n",
        "LABEL_COLUMN = \"Survived\"\n",
        "\n",
        "TRAIN_DATA_URL=  \"https://raw.githubusercontent.com/datasigntist/datasetsForTraining/master/train.csv\" \n",
        "\n",
        "train_file_path = tf.keras.utils.get_file(\"train.csv\", TRAIN_DATA_URL) \n",
        "\n",
        "def get_dataset(file_path, **kwargs):\n",
        "  dataset = tf.data.experimental.make_csv_dataset(\n",
        "      file_path,\n",
        "      batch_size=5, # Artificially small to make examples easier to show.\n",
        "      label_name=LABEL_COLUMN,\n",
        "      na_value=\"?\",\n",
        "      num_epochs=1,\n",
        "      ignore_errors=True, \n",
        "      **kwargs)\n",
        "  return dataset\n",
        "\n",
        "def show_batch(dataset):\n",
        "  for batch, label in dataset.take(1):\n",
        "    for key, value in batch.items():\n",
        "      print(\"{:20s}: {}\".format(key,value.numpy()))\n",
        "\n",
        "titanicDataSet = get_dataset(train_file_path)\n",
        "\n",
        "class extractFeaturesFromName(object):\n",
        "  def __call__(self, features, labels):\n",
        "    namesOfPassengers = features['Name']\n",
        "    lastName_feature = tf.map_fn(lambda feat: tf.strings.strip(tf.strings.split(feat,\",\")[0]) ,namesOfPassengers)\n",
        "    firstName_feature = tf.map_fn(lambda feat: tf.strings.strip(tf.strings.split(tf.strings.strip(tf.strings.split(feat,\",\")[1]),\".\")[1]) ,namesOfPassengers)\n",
        "    title_feature  = tf.map_fn(lambda feat: tf.strings.strip(tf.strings.split(tf.strings.strip(tf.strings.split(feat,\",\")[1]),\".\")[0]) ,namesOfPassengers)\n",
        "    features['last_name'] = lastName_feature\n",
        "    features['first_name'] = firstName_feature\n",
        "    features['title_feature'] = title_feature\n",
        "    return features, labels\n",
        "\n",
        "class replaceMissingValuesInAge(object):\n",
        "  def __init__(self, meanAge):\n",
        "    self.meanAge = meanAge\n",
        "\n",
        "  def __call__(self, features, labels):\n",
        "    ageOfPassengers = features['Age']\n",
        "    ageOfPassengers = tf.map_fn(lambda age: (age if age>0 else self.meanAge) ,ageOfPassengers)\n",
        "    features['Age'] = ageOfPassengers\n",
        "    return features, labels\n",
        "\n",
        "desc = pd.read_csv(train_file_path)[\"Age\"].describe()\n",
        "MEAN = np.float32(np.array(desc.T['mean']))\n",
        "\n",
        "newtitanicDataSet = titanicDataSet.map(extractFeaturesFromName())\n",
        "newtitanicDataSet = newtitanicDataSet.map(replaceMissingValuesInAge(MEAN))\n",
        "\n",
        "show_batch(newtitanicDataSet)"
      ],
      "execution_count": 8,
      "outputs": [
        {
          "output_type": "stream",
          "text": [
            "PassengerId         : [312 811 704 378 172]\n",
            "Pclass              : [1 3 3 1 3]\n",
            "Name                : [b'Ryerson, Miss. Emily Borie' b'Alexander, Mr. William'\n",
            " b'Gallagher, Mr. Martin' b'Widener, Mr. Harry Elkins'\n",
            " b'Rice, Master. Arthur']\n",
            "Sex                 : [b'female' b'male' b'male' b'male' b'male']\n",
            "Age                 : [18. 26. 25. 27.  4.]\n",
            "SibSp               : [2 0 0 0 4]\n",
            "Parch               : [2 0 0 2 1]\n",
            "Ticket              : [b'PC 17608' b'3474' b'36864' b'113503' b'382652']\n",
            "Fare                : [262.375    7.8875   7.7417 211.5     29.125 ]\n",
            "Cabin               : [b'B57 B59 B63 B66' b'' b'' b'C82' b'']\n",
            "Embarked            : [b'C' b'S' b'Q' b'C' b'Q']\n",
            "last_name           : [b'Ryerson' b'Alexander' b'Gallagher' b'Widener' b'Rice']\n",
            "first_name          : [b'Emily Borie' b'William' b'Martin' b'Harry Elkins' b'Arthur']\n",
            "title_feature       : [b'Miss' b'Mr' b'Mr' b'Mr' b'Master']\n"
          ],
          "name": "stdout"
        }
      ]
    },
    {
      "cell_type": "code",
      "metadata": {
        "id": "1dahyhCqekTO",
        "colab_type": "code",
        "colab": {}
      },
      "source": [
        ""
      ],
      "execution_count": 0,
      "outputs": []
    }
  ]
}