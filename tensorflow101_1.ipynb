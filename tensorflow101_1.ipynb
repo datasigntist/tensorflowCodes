{
  "nbformat": 4,
  "nbformat_minor": 0,
  "metadata": {
    "colab": {
      "name": "tensorflow101-1.ipynb",
      "provenance": [],
      "collapsed_sections": [],
      "authorship_tag": "ABX9TyOlv/0zjy3aoryHHyiLGmrE",
      "include_colab_link": true
    },
    "kernelspec": {
      "name": "python3",
      "display_name": "Python 3"
    }
  },
  "cells": [
    {
      "cell_type": "markdown",
      "metadata": {
        "id": "view-in-github",
        "colab_type": "text"
      },
      "source": [
        "<a href=\"https://colab.research.google.com/github/datasigntist/tensorflowCodes/blob/master/tensorflow101_1.ipynb\" target=\"_parent\"><img src=\"https://colab.research.google.com/assets/colab-badge.svg\" alt=\"Open In Colab\"/></a>"
      ]
    },
    {
      "cell_type": "code",
      "metadata": {
        "id": "TGCOgXs-eKt_",
        "colab_type": "code",
        "colab": {
          "base_uri": "https://localhost:8080/",
          "height": 247
        },
        "outputId": "ec958b6a-2af0-44a8-c6b0-47324c5e34b4"
      },
      "source": [
        "import functools \n",
        "import numpy as np \n",
        "import tensorflow as tf \n",
        "import pandas as pd\n",
        "\n",
        "LABEL_COLUMN = \"Survived\"\n",
        "\n",
        "TRAIN_DATA_URL=  \"https://raw.githubusercontent.com/datasigntist/datasetsForTraining/master/train.csv\" \n",
        "\n",
        "train_file_path = tf.keras.utils.get_file(\"train.csv\", TRAIN_DATA_URL) \n",
        "\n",
        "def get_dataset(file_path, **kwargs):\n",
        "  dataset = tf.data.experimental.make_csv_dataset(\n",
        "      file_path,\n",
        "      batch_size=5, # Artificially small to make examples easier to show.\n",
        "      label_name=LABEL_COLUMN,\n",
        "      na_value=\"?\",\n",
        "      num_epochs=1,\n",
        "      ignore_errors=True, \n",
        "      **kwargs)\n",
        "  return dataset\n",
        "\n",
        "def show_batch(dataset):\n",
        "  for batch, label in dataset.take(1):\n",
        "    for key, value in batch.items():\n",
        "      print(\"{:20s}: {}\".format(key,value.numpy()))\n",
        "\n",
        "titanicDataSet = get_dataset(train_file_path)\n",
        "\n",
        "class extractFeaturesFromName(object):\n",
        "  def __call__(self, features, labels):\n",
        "    namesOfPassengers = features['Name']\n",
        "    lastName_feature = tf.map_fn(lambda feat: tf.strings.strip(tf.strings.split(feat,\",\")[0]) ,namesOfPassengers)\n",
        "    firstName_feature = tf.map_fn(lambda feat: tf.strings.strip(tf.strings.split(tf.strings.strip(tf.strings.split(feat,\",\")[1]),\".\")[1]) ,namesOfPassengers)\n",
        "    title_feature  = tf.map_fn(lambda feat: tf.strings.strip(tf.strings.split(tf.strings.strip(tf.strings.split(feat,\",\")[1]),\".\")[0]) ,namesOfPassengers)\n",
        "    features['last_name'] = lastName_feature\n",
        "    features['first_name'] = firstName_feature\n",
        "    features['title_feature'] = title_feature\n",
        "    return features, labels\n",
        "\n",
        "class replaceMissingValuesInAge(object):\n",
        "  def __init__(self, meanAge):\n",
        "    self.meanAge = meanAge\n",
        "\n",
        "  def __call__(self, features, labels):\n",
        "    ageOfPassengers = features['Age']\n",
        "    ageOfPassengers = tf.map_fn(lambda age: (age if age>0 else self.meanAge) ,ageOfPassengers)\n",
        "    features['Age'] = ageOfPassengers\n",
        "    return features, labels\n",
        "\n",
        "desc = pd.read_csv(train_file_path)[\"Age\"].describe()\n",
        "MEAN = np.float32(np.array(desc.T['mean']))\n",
        "\n",
        "newtitanicDataSet = titanicDataSet.map(extractFeaturesFromName())\n",
        "newtitanicDataSet = titanicDataSet.map(replaceMissingValuesInAge(MEAN))\n",
        "\n",
        "show_batch(newtitanicDataSet)"
      ],
      "execution_count": 6,
      "outputs": [
        {
          "output_type": "stream",
          "text": [
            "PassengerId         : [ 18 776 241 744 134]\n",
            "Pclass              : [2 3 3 3 2]\n",
            "Name                : [b'Williams, Mr. Charles Eugene'\n",
            " b'Myhrman, Mr. Pehr Fabian Oliver Malkolm' b'Zabour, Miss. Thamine'\n",
            " b'McNamee, Mr. Neal' b'Weisz, Mrs. Leopold (Mathilde Francoise Pede)']\n",
            "Sex                 : [b'male' b'male' b'female' b'male' b'female']\n",
            "Age                 : [29.699118 18.       29.699118 24.       29.      ]\n",
            "SibSp               : [0 0 1 1 1]\n",
            "Parch               : [0 0 0 0 0]\n",
            "Ticket              : [b'244373' b'347078' b'2665' b'376566' b'228414']\n",
            "Fare                : [13.      7.75   14.4542 16.1    26.    ]\n",
            "Cabin               : [b'' b'' b'' b'' b'']\n",
            "Embarked            : [b'S' b'S' b'C' b'S' b'S']\n"
          ],
          "name": "stdout"
        }
      ]
    },
    {
      "cell_type": "code",
      "metadata": {
        "id": "1dahyhCqekTO",
        "colab_type": "code",
        "colab": {}
      },
      "source": [
        ""
      ],
      "execution_count": 0,
      "outputs": []
    }
  ]
}